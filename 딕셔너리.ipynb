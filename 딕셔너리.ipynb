{
 "cells": [
  {
   "cell_type": "code",
   "execution_count": 30,
   "id": "c68ff118-3d64-4bb4-98a7-b88485f95612",
   "metadata": {},
   "outputs": [],
   "source": [
    "odd = [1,3,5,7,9]\n",
    "\n",
    "#딕셔너리는 리스트나 튜플처럼 순차적으로 해당 요소값을 구하지 않고, key를 통해 Value를 얻음\n",
    "#특정 지정값(key)를 찾기 위해 해당하는 자료만 열람\n",
    "#딕셔너리는 {key1:Value1, key2:value2 ...} 와 같이 여러 개가 {}로 둘러 싸휴여 있고, 각각 요소는 Key:Value로 이루어져 있으며, 쉼표(,)로 구분"
   ]
  },
  {
   "cell_type": "code",
   "execution_count": 6,
   "id": "fb429dfa-595b-4b70-b20f-ae921a8f5040",
   "metadata": {},
   "outputs": [],
   "source": [
    "dic = {'name':'pey', 'Phone':'010-9999-1234', 'birth':'1118'}"
   ]
  },
  {
   "cell_type": "code",
   "execution_count": 7,
   "id": "3e69b35d-3eb0-4a98-b277-ce4272942c27",
   "metadata": {},
   "outputs": [
    {
     "data": {
      "text/plain": [
       "{'name': 'pey', 'Phone': '010-9999-1234', 'birth': '1118'}"
      ]
     },
     "execution_count": 7,
     "metadata": {},
     "output_type": "execute_result"
    }
   ],
   "source": [
    "dic"
   ]
  },
  {
   "cell_type": "code",
   "execution_count": 8,
   "id": "c5925ed8-ddb2-4933-873b-f1edcb6af380",
   "metadata": {},
   "outputs": [],
   "source": [
    "del dic['name']\n",
    "#딕셔너리 요소를 삭제할때는 del 변수값[key]를 입력\n",
    "#key에 해당하는 {key:value}쌍이 삭제"
   ]
  },
  {
   "cell_type": "code",
   "execution_count": 9,
   "id": "9258483e-e4f6-4ffc-ab28-9cbd7222e8d6",
   "metadata": {},
   "outputs": [
    {
     "data": {
      "text/plain": [
       "{'Phone': '010-9999-1234', 'birth': '1118'}"
      ]
     },
     "execution_count": 9,
     "metadata": {},
     "output_type": "execute_result"
    }
   ],
   "source": [
    "dic"
   ]
  },
  {
   "cell_type": "code",
   "execution_count": 12,
   "id": "af519117-e73c-4989-8191-51781056786f",
   "metadata": {},
   "outputs": [
    {
     "data": {
      "text/plain": [
       "'1118'"
      ]
     },
     "execution_count": 12,
     "metadata": {},
     "output_type": "execute_result"
    }
   ],
   "source": [
    "dic['birth']\n",
    "#딕셔너리는 key를 사용해서 value를 구하는 방법밖에 없음\n",
    "#리스트나 튜플, 문자열은 인덱싱이나 슬라이싱 기법 중 하나를 사용함"
   ]
  },
  {
   "cell_type": "code",
   "execution_count": 16,
   "id": "02a922d7-be39-4b44-9e02-22432c608160",
   "metadata": {},
   "outputs": [
    {
     "data": {
      "text/plain": [
       "'010-9999-1234'"
      ]
     },
     "execution_count": 16,
     "metadata": {},
     "output_type": "execute_result"
    }
   ],
   "source": [
    "dic['Phone']"
   ]
  },
  {
   "cell_type": "code",
   "execution_count": 17,
   "id": "dbfd05f9-c6b3-4ef3-bd1e-48cc6fb71a59",
   "metadata": {},
   "outputs": [
    {
     "data": {
      "text/plain": [
       "dict_keys(['Phone', 'birth'])"
      ]
     },
     "execution_count": 17,
     "metadata": {},
     "output_type": "execute_result"
    }
   ],
   "source": [
    "dic.keys()"
   ]
  },
  {
   "cell_type": "code",
   "execution_count": 18,
   "id": "9c26c733-b603-44eb-b3b3-e7983ebcd22b",
   "metadata": {},
   "outputs": [
    {
     "data": {
      "text/plain": [
       "['Phone', 'birth']"
      ]
     },
     "execution_count": 18,
     "metadata": {},
     "output_type": "execute_result"
    }
   ],
   "source": [
    "list(dic.keys())"
   ]
  },
  {
   "cell_type": "code",
   "execution_count": 22,
   "id": "0799bc36-5718-450d-bfac-43e24c13b13d",
   "metadata": {},
   "outputs": [
    {
     "name": "stdout",
     "output_type": "stream",
     "text": [
      "Phone\n",
      "birth\n"
     ]
    }
   ],
   "source": [
    "for k in dic.keys():\n",
    "    print(k)"
   ]
  },
  {
   "cell_type": "code",
   "execution_count": 23,
   "id": "b5087c8f-7e97-4fdb-a0d3-42354c3014ae",
   "metadata": {},
   "outputs": [],
   "source": [
    "dic['name'] = 'pey'"
   ]
  },
  {
   "cell_type": "code",
   "execution_count": 24,
   "id": "8baee5c6-6abd-4617-ae6f-91d650e9ae43",
   "metadata": {},
   "outputs": [
    {
     "data": {
      "text/plain": [
       "{'Phone': '010-9999-1234', 'birth': '1118', 'name': 'pey'}"
      ]
     },
     "execution_count": 24,
     "metadata": {},
     "output_type": "execute_result"
    }
   ],
   "source": [
    "dic"
   ]
  },
  {
   "cell_type": "code",
   "execution_count": 26,
   "id": "d99da522-2017-46e0-87ba-195519604527",
   "metadata": {},
   "outputs": [
    {
     "data": {
      "text/plain": [
       "dict_items([('Phone', '010-9999-1234'), ('birth', '1118'), ('name', 'pey')])"
      ]
     },
     "execution_count": 26,
     "metadata": {},
     "output_type": "execute_result"
    }
   ],
   "source": [
    "dic.items()"
   ]
  },
  {
   "cell_type": "code",
   "execution_count": 27,
   "id": "2d4abbc9-e3dc-4c8c-a8e7-10a165c823d9",
   "metadata": {},
   "outputs": [
    {
     "data": {
      "text/plain": [
       "[('Phone', '010-9999-1234'), ('birth', '1118'), ('name', 'pey')]"
      ]
     },
     "execution_count": 27,
     "metadata": {},
     "output_type": "execute_result"
    }
   ],
   "source": [
    "list(dic.items())"
   ]
  },
  {
   "cell_type": "code",
   "execution_count": 28,
   "id": "5dfe61f8-796e-4c2b-815a-b1a5281213e4",
   "metadata": {},
   "outputs": [
    {
     "data": {
      "text/plain": [
       "'pey'"
      ]
     },
     "execution_count": 28,
     "metadata": {},
     "output_type": "execute_result"
    }
   ],
   "source": [
    "dic.get('name')"
   ]
  },
  {
   "cell_type": "code",
   "execution_count": 29,
   "id": "1c47dc01-5633-4e8c-a9d2-2908737e3875",
   "metadata": {},
   "outputs": [
    {
     "data": {
      "text/plain": [
       "'010-9999-1234'"
      ]
     },
     "execution_count": 29,
     "metadata": {},
     "output_type": "execute_result"
    }
   ],
   "source": [
    "dic.get('Phone')"
   ]
  },
  {
   "cell_type": "code",
   "execution_count": null,
   "id": "f994aa37-c74b-4e22-a597-5e21a256e849",
   "metadata": {},
   "outputs": [],
   "source": []
  }
 ],
 "metadata": {
  "kernelspec": {
   "display_name": "Python 3 (ipykernel)",
   "language": "python",
   "name": "python3"
  },
  "language_info": {
   "codemirror_mode": {
    "name": "ipython",
    "version": 3
   },
   "file_extension": ".py",
   "mimetype": "text/x-python",
   "name": "python",
   "nbconvert_exporter": "python",
   "pygments_lexer": "ipython3",
   "version": "3.11.0"
  }
 },
 "nbformat": 4,
 "nbformat_minor": 5
}
