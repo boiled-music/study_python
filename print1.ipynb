{
 "cells": [
  {
   "cell_type": "code",
   "execution_count": 1,
   "metadata": {},
   "outputs": [
    {
     "name": "stdout",
     "output_type": "stream",
     "text": [
      "1 2 3\n"
     ]
    }
   ],
   "source": [
    "#print를 활용하여 값을 여러 개 출력하기\n",
    "# print에는 변수나 값 여러 개를 ,(콤마)로 구분하여 넣을 수 있음\n",
    "# print(값1, 값2, 값3...) / print(변수1, 변수2, 변수3...)\n",
    "print(1,2,3)"
   ]
  },
  {
   "cell_type": "code",
   "execution_count": 2,
   "metadata": {},
   "outputs": [
    {
     "name": "stdout",
     "output_type": "stream",
     "text": [
      "Hello Python\n"
     ]
    }
   ],
   "source": [
    "print('Hello', 'Python')"
   ]
  },
  {
   "cell_type": "code",
   "execution_count": 3,
   "metadata": {},
   "outputs": [
    {
     "name": "stdout",
     "output_type": "stream",
     "text": [
      "1, 2, 3\n"
     ]
    }
   ],
   "source": [
    "#sep로 값 사이에 문자 넣기\n",
    "#변수나 값을  콤마로 구분해서 넣으면 값이 공백으로 띄워져서 한줄로 출력\n",
    "#값 사이에 공백이 아닌 다른 문자를 넣고 싶을 땐 print의 sep 문자 또는 문자열을 지정(sep은 separator의 약어)\n",
    "# print(값1, 값2, sep='문자 또는 문자열') / print(변수1, 변수2, sep='문자 또는 문자열')\n",
    "print(1,2,3,sep=', ') #sep에 콤마와 공백을 지정"
   ]
  },
  {
   "cell_type": "code",
   "execution_count": 4,
   "metadata": {},
   "outputs": [
    {
     "name": "stdout",
     "output_type": "stream",
     "text": [
      "4,5,6\n"
     ]
    }
   ],
   "source": [
    "print(4,5,6,sep=',') #sep에 콤마만 지정"
   ]
  },
  {
   "cell_type": "code",
   "execution_count": 5,
   "metadata": {},
   "outputs": [
    {
     "name": "stdout",
     "output_type": "stream",
     "text": [
      "HelloPython\n"
     ]
    }
   ],
   "source": [
    "print('Hello', 'Python', sep='') #sep에 빈 문자열 지정"
   ]
  },
  {
   "cell_type": "code",
   "execution_count": 6,
   "metadata": {},
   "outputs": [
    {
     "name": "stdout",
     "output_type": "stream",
     "text": [
      "1920x1080\n"
     ]
    }
   ],
   "source": [
    "print(1920, 1080, sep='x') #sep에 x를 지정"
   ]
  },
  {
   "cell_type": "code",
   "execution_count": 7,
   "metadata": {},
   "outputs": [
    {
     "name": "stdout",
     "output_type": "stream",
     "text": [
      "1\n",
      "2\n",
      "3\n"
     ]
    }
   ],
   "source": [
    "#줄 바꿈\n",
    "# print에 값을 여러 개 지정하면 한 줄에 모든 값이 출력함\n",
    "# print 한 번으로 여러 줄을 출력할 방법은 sep에 개행문자(\\n) 지정하면 됨\n",
    "print(1,2,3, sep='\\n')"
   ]
  },
  {
   "cell_type": "code",
   "execution_count": 8,
   "metadata": {},
   "outputs": [
    {
     "name": "stdout",
     "output_type": "stream",
     "text": [
      "1\n",
      "2\n",
      "3\n"
     ]
    }
   ],
   "source": [
    "#\\n도 문자이므로 양 옆에 공백을 넣으면 공백이 그대로 출력됨\n",
    "#\\n은 옆에 다른 문자나 숫자와 붙여 씀\n",
    "print('1\\n2\\n3') #문자열 안에 \\n을 사용하여 줄바꿈"
   ]
  },
  {
   "cell_type": "code",
   "execution_count": 9,
   "metadata": {},
   "outputs": [
    {
     "name": "stdout",
     "output_type": "stream",
     "text": [
      "123\n"
     ]
    }
   ],
   "source": [
    "#print는 기본적으로 출력 값 끝에 \\n을 붙임\n",
    "#print를 여러번 사용하여 한 줄에 여러 개 값을 출력할 경우 end에 빈 문자열을 지정\n",
    "# print(값, end='문자 또는 문자열') / print(변수, end='문자 또는 문자열')\n",
    "print(1, end='') #end에 빈 문자열을 지정하면 다음 번 출력이 바로 뒤에 오게 됨\n",
    "print(2, end='')\n",
    "print(3)"
   ]
  },
  {
   "cell_type": "code",
   "execution_count": 10,
   "metadata": {},
   "outputs": [
    {
     "name": "stdout",
     "output_type": "stream",
     "text": [
      "1 2 3\n"
     ]
    }
   ],
   "source": [
    "print(1, end=' ') #end에 공백 한 칸 지정\n",
    "print(2, end=' ')\n",
    "print(3)"
   ]
  },
  {
   "cell_type": "code",
   "execution_count": 11,
   "metadata": {},
   "outputs": [],
   "source": [
    "#연습문제\n",
    "#실행결과 : 2000/10/27 11:43:59\n",
    "year = 2000"
   ]
  },
  {
   "cell_type": "code",
   "execution_count": 12,
   "metadata": {},
   "outputs": [],
   "source": [
    "month = 10"
   ]
  },
  {
   "cell_type": "code",
   "execution_count": 13,
   "metadata": {},
   "outputs": [],
   "source": [
    "day = 27"
   ]
  },
  {
   "cell_type": "code",
   "execution_count": 14,
   "metadata": {},
   "outputs": [],
   "source": [
    "hour = 11"
   ]
  },
  {
   "cell_type": "code",
   "execution_count": 15,
   "metadata": {},
   "outputs": [],
   "source": [
    "minute = 43"
   ]
  },
  {
   "cell_type": "code",
   "execution_count": 16,
   "metadata": {},
   "outputs": [],
   "source": [
    "second = 59"
   ]
  },
  {
   "cell_type": "code",
   "execution_count": 17,
   "metadata": {},
   "outputs": [
    {
     "name": "stdout",
     "output_type": "stream",
     "text": [
      "2000/10/27 11:43:59\n"
     ]
    }
   ],
   "source": [
    "print(year, month, day, sep='/', end=' ')\n",
    "print(hour, minute, second, sep=':')"
   ]
  },
  {
   "cell_type": "code",
   "execution_count": null,
   "metadata": {},
   "outputs": [],
   "source": []
  }
 ],
 "metadata": {
  "kernelspec": {
   "display_name": "Python 3 (ipykernel)",
   "language": "python",
   "name": "python3"
  },
  "language_info": {
   "codemirror_mode": {
    "name": "ipython",
    "version": 3
   },
   "file_extension": ".py",
   "mimetype": "text/x-python",
   "name": "python",
   "nbconvert_exporter": "python",
   "pygments_lexer": "ipython3",
   "version": "3.11.0"
  }
 },
 "nbformat": 4,
 "nbformat_minor": 4
}
