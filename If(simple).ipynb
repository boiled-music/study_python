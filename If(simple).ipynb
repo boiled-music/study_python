{
 "cells": [
  {
   "cell_type": "code",
   "execution_count": 3,
   "id": "b2511d30-80de-4fe5-bf38-c2222882694c",
   "metadata": {},
   "outputs": [],
   "source": [
    "# if 조건문\n",
    " # 조건문은 특정 조건일 때 코드를 실행하는 문법\n",
    " # if 조건문은 if에 조건식을 지정하고 : (콜론)을 붙여 다음 줄에 실행할 코드가 오며, 실행할 코드는 반드시 들여쓰기를 해야함\n",
    " # if 조건식 :\n",
    " #    코드\n",
    "x = 10"
   ]
  },
  {
   "cell_type": "code",
   "execution_count": 4,
   "id": "7062295d-ae94-4075-b413-cef68ed09ccf",
   "metadata": {},
   "outputs": [
    {
     "name": "stdout",
     "output_type": "stream",
     "text": [
      "10입니다.\n"
     ]
    }
   ],
   "source": [
    "if x == 10:\n",
    "    print('10입니다.')"
   ]
  },
  {
   "cell_type": "code",
   "execution_count": 5,
   "id": "cd88cce6-1390-4ae5-ac05-2d3a273f1257",
   "metadata": {},
   "outputs": [
    {
     "ename": "SyntaxError",
     "evalue": "invalid syntax. Maybe you meant '==' or ':=' instead of '='? (4078611050.py, line 3)",
     "output_type": "error",
     "traceback": [
      "\u001b[0;36m  Cell \u001b[0;32mIn[5], line 3\u001b[0;36m\u001b[0m\n\u001b[0;31m    if x = 10:\u001b[0m\n\u001b[0m       ^\u001b[0m\n\u001b[0;31mSyntaxError\u001b[0m\u001b[0;31m:\u001b[0m invalid syntax. Maybe you meant '==' or ':=' instead of '='?\n"
     ]
    }
   ],
   "source": [
    " # if 조건문을 사용할때 주의할 점은 = 을 할당으로 사용하고 있으므로 값을 비교할때는 ==를 사용\n",
    " # 조건식 끝에 :을 빠지지 않도록 주의\n",
    "if x = 10:"
   ]
  },
  {
   "cell_type": "code",
   "execution_count": 6,
   "id": "5a6352e9-8770-434f-94f5-b16e9dfdf03f",
   "metadata": {},
   "outputs": [
    {
     "ename": "SyntaxError",
     "evalue": "expected ':' (2359172251.py, line 1)",
     "output_type": "error",
     "traceback": [
      "\u001b[0;36m  Cell \u001b[0;32mIn[6], line 1\u001b[0;36m\u001b[0m\n\u001b[0;31m    if x == 10\u001b[0m\n\u001b[0m              ^\u001b[0m\n\u001b[0;31mSyntaxError\u001b[0m\u001b[0;31m:\u001b[0m expected ':'\n"
     ]
    }
   ],
   "source": [
    "if x == 10"
   ]
  },
  {
   "cell_type": "code",
   "execution_count": 7,
   "id": "b99f8373-2013-45b6-8066-32d7fd86d930",
   "metadata": {},
   "outputs": [],
   "source": [
    " # if 조건문에서 코드 생략\n",
    "x = 10"
   ]
  },
  {
   "cell_type": "code",
   "execution_count": 9,
   "id": "9e9b02bc-c340-4d65-8fb3-f8ce294f5e6c",
   "metadata": {},
   "outputs": [],
   "source": [
    "if x == 10:\n",
    "    pass # 아무 일도 하지 않고 그냥 넘어간다는 뜻 (if 다음 줄에 아무 코드도 넣지 않으면 에러가 발생하므로 형태유지를 위해 pass 사용)\n",
    "         # pass는 나중에 작성해야할 코드를 표시할 때 주로 사용."
   ]
  },
  {
   "cell_type": "code",
   "execution_count": 10,
   "id": "6a058500-0033-4e9b-a87d-06497282d443",
   "metadata": {},
   "outputs": [],
   "source": [
    " # if 조건문과 들여쓰기\n",
    "x = 10"
   ]
  },
  {
   "cell_type": "code",
   "execution_count": 11,
   "id": "50ae382f-091d-48a3-8209-41e46b86a4e3",
   "metadata": {},
   "outputs": [
    {
     "ename": "IndentationError",
     "evalue": "unexpected indent (1127347940.py, line 3)",
     "output_type": "error",
     "traceback": [
      "\u001b[0;36m  Cell \u001b[0;32mIn[11], line 3\u001b[0;36m\u001b[0m\n\u001b[0;31m    print('10입니다.') #unexpected indent 에러 발생\u001b[0m\n\u001b[0m    ^\u001b[0m\n\u001b[0;31mIndentationError\u001b[0m\u001b[0;31m:\u001b[0m unexpected indent\n"
     ]
    }
   ],
   "source": [
    "if x == 10:\n",
    "    print('x에 들어있는 숫자는')\n",
    "        print('10입니다.') #unexpected indent 에러 발생"
   ]
  },
  {
   "cell_type": "code",
   "execution_count": 20,
   "id": "8897a9c7-4322-4fa8-84e6-029897786e01",
   "metadata": {},
   "outputs": [],
   "source": [
    "  # 반드시 들여쓰기 깊이가 같아야 함\n",
    "if x == 10:\n",
    "    print('x에 들어있는 숫자는')\n",
    "    print('10입니다.')\n",
    "\n",
    "# if 에서 처음부터 들여쓰기를 4칸으로 지정했으면 계속 4칸으로 유지하고, 2칸으로 시작했으면 2칸을 유지해야 함.(통일)"
   ]
  },
  {
   "cell_type": "code",
   "execution_count": 21,
   "id": "b2e9cfdc-4122-4d46-970e-2f7109363f53",
   "metadata": {},
   "outputs": [
    {
     "name": "stdout",
     "output_type": "stream",
     "text": [
      "10입니다.\n"
     ]
    }
   ],
   "source": [
    "if x == 10:\n",
    "    print('x에 들어있는 숫자는')\n",
    "print('10입니다.')"
   ]
  },
  {
   "cell_type": "code",
   "execution_count": 22,
   "id": "14491641-e76b-4483-a28c-9c37e68bb721",
   "metadata": {},
   "outputs": [],
   "source": [
    "x = 5 # x에 5를 할당"
   ]
  },
  {
   "cell_type": "code",
   "execution_count": 23,
   "id": "ec9592df-d485-4236-8e40-527182be95c9",
   "metadata": {},
   "outputs": [
    {
     "name": "stdout",
     "output_type": "stream",
     "text": [
      "10입니다\n"
     ]
    }
   ],
   "source": [
    "if x == 10: \n",
    "    print('x에 들어있는 숫자는')  # x에 5를 할당하여 if 조건식을 만족하지 않으므로 실행되지 않음\n",
    "print('10입니다')              # 들여쓰기 깊이가 달라졌기 때문에 if절에 영향을 받지 않는 코드가 되어 True/False와 상관없이 print"
   ]
  },
  {
   "cell_type": "code",
   "execution_count": 24,
   "id": "0449ac86-aa83-4eb6-8ed2-ea7e7b2aaef9",
   "metadata": {},
   "outputs": [],
   "source": [
    " # 중첩 if 조건문\n",
    "x = 15"
   ]
  },
  {
   "cell_type": "code",
   "execution_count": 25,
   "id": "67b43115-2303-462b-863c-e120bcff1365",
   "metadata": {},
   "outputs": [
    {
     "name": "stdout",
     "output_type": "stream",
     "text": [
      "10 이상입니다.\n",
      "15입니다.\n"
     ]
    }
   ],
   "source": [
    "if x >= 10:\n",
    "    print('10 이상입니다.')\n",
    "    if x == 15:\n",
    "        print('15입니다.')\n",
    "    if x == 20:\n",
    "        print('20입니다.')"
   ]
  },
  {
   "cell_type": "code",
   "execution_count": 2,
   "id": "ca72a08e-94c4-4f72-ad7b-e58d4f3ee850",
   "metadata": {},
   "outputs": [
    {
     "name": "stdin",
     "output_type": "stream",
     "text": [
      " 10\n"
     ]
    }
   ],
   "source": [
    " # 사용자가 입력한 값에 if 조건문 사용\n",
    "  # input을 사용하여 사용자가 입력한 값을 변수에 저장하고, if 조건문으로 값을 비교\n",
    "x = int(input()) # 입력받은 값을 변수에 저장"
   ]
  },
  {
   "cell_type": "code",
   "execution_count": 3,
   "id": "a64ecf18-c51e-413e-8a8d-0a2e743427d0",
   "metadata": {},
   "outputs": [
    {
     "name": "stdout",
     "output_type": "stream",
     "text": [
      "10입니다.\n"
     ]
    }
   ],
   "source": [
    "if x == 10:\n",
    "    print('10입니다.')"
   ]
  },
  {
   "cell_type": "code",
   "execution_count": 4,
   "id": "4303ec90-fe7f-4637-bb1d-197188ee7de5",
   "metadata": {},
   "outputs": [],
   "source": [
    "if x == 20:\n",
    "    print('20입니다.')"
   ]
  },
  {
   "cell_type": "code",
   "execution_count": 5,
   "id": "c5146aae-7777-43dd-ae74-8ec85e9c6ad2",
   "metadata": {},
   "outputs": [],
   "source": [
    "#연습문제 : if 조건문 사용하기\n",
    " # 다음 소스 코드를 완성하여 x의 값이 10이 아닐 때 'ok'가 출력되게 만드세요.\n",
    "x = 5"
   ]
  },
  {
   "cell_type": "code",
   "execution_count": 6,
   "id": "73097362-c2df-434d-a7f5-35b6a0f98372",
   "metadata": {},
   "outputs": [
    {
     "name": "stdout",
     "output_type": "stream",
     "text": [
      "ok\n"
     ]
    }
   ],
   "source": [
    "if x != 10:\n",
    "    print('ok')"
   ]
  },
  {
   "cell_type": "code",
   "execution_count": null,
   "id": "61660c77-c612-49a1-b388-aa18d387ba0b",
   "metadata": {},
   "outputs": [],
   "source": []
  }
 ],
 "metadata": {
  "kernelspec": {
   "display_name": "Python 3 (ipykernel)",
   "language": "python",
   "name": "python3"
  },
  "language_info": {
   "codemirror_mode": {
    "name": "ipython",
    "version": 3
   },
   "file_extension": ".py",
   "mimetype": "text/x-python",
   "name": "python",
   "nbconvert_exporter": "python",
   "pygments_lexer": "ipython3",
   "version": "3.11.0"
  }
 },
 "nbformat": 4,
 "nbformat_minor": 5
}
