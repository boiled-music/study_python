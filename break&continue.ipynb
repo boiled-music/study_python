{
 "cells": [
  {
   "cell_type": "code",
   "execution_count": 1,
   "metadata": {},
   "outputs": [
    {
     "name": "stdout",
     "output_type": "stream",
     "text": [
      "0\n",
      "1\n",
      "2\n",
      "3\n",
      "4\n",
      "5\n",
      "6\n",
      "7\n",
      "8\n",
      "9\n"
     ]
    }
   ],
   "source": [
    "# break, continue\n",
    " # break 는 for 와 while 문법에서 제어흐름을 벗어나기 위해 사용.\n",
    "  # 즉, 루프를 완전히 중단\n",
    " # continue는 break와 비슷하지만 제어흐름(반복)을 유지한 상태에서 코드의 실행만 건너뛰는 역할\n",
    "\n",
    " # break 로 반복문 끝내기\n",
    "  # while에서 break 로 반복문 끝내기\n",
    "i = 0\n",
    "while True:    # 무한루프\n",
    "    print(i)\n",
    "    i += 1     # i를 1씩 증가시킴\n",
    "    if i == 10:  # i 가 100일 때\n",
    "        break     # 반복문을 끝냄. while의 제어흐름을 벗어남"
   ]
  },
  {
   "cell_type": "code",
   "execution_count": 3,
   "metadata": {},
   "outputs": [
    {
     "name": "stdout",
     "output_type": "stream",
     "text": [
      "0\n",
      "1\n",
      "2\n",
      "3\n",
      "4\n",
      "5\n",
      "6\n",
      "7\n",
      "8\n",
      "9\n",
      "10\n"
     ]
    }
   ],
   "source": [
    "   # for 에서 break로 반복문 끝내기\n",
    "for i in range(100):   # 0부터 99까지 반복\n",
    "    print(i)\n",
    "    if i == 10:    # i 가 10일 때\n",
    "        break      # 반복문을 끝냄. for의 제어흐름을 벗어남"
   ]
  },
  {
   "cell_type": "code",
   "execution_count": 5,
   "metadata": {},
   "outputs": [
    {
     "name": "stdout",
     "output_type": "stream",
     "text": [
      "1\n",
      "3\n",
      "5\n",
      "7\n",
      "9\n",
      "11\n",
      "13\n",
      "15\n",
      "17\n",
      "19\n",
      "21\n",
      "23\n",
      "25\n",
      "27\n",
      "29\n",
      "31\n",
      "33\n",
      "35\n",
      "37\n",
      "39\n",
      "41\n",
      "43\n",
      "45\n",
      "47\n",
      "49\n",
      "51\n",
      "53\n",
      "55\n",
      "57\n",
      "59\n",
      "61\n",
      "63\n",
      "65\n",
      "67\n",
      "69\n",
      "71\n",
      "73\n",
      "75\n",
      "77\n",
      "79\n",
      "81\n",
      "83\n",
      "85\n",
      "87\n",
      "89\n",
      "91\n",
      "93\n",
      "95\n",
      "97\n",
      "99\n"
     ]
    }
   ],
   "source": [
    " # continue 로 코드 실행 건너뛰기\n",
    "  # for 에서 continue로 코드 실행 건너뛰기\n",
    "for i in range(100):        # 0부터 99까지 증가하면서 100번 반복\n",
    "    if i % 2 == 0:          # i 를 2로 나누었을 때 나머지가 0이면 짝수\n",
    "        continue            # 아래 코드를 실행하지 않고 건너뜀\n",
    "    print(i)                # i 가 짝수이면 continue를 실행하여 print를 건너뛰었으므로, 홀수만 출력"
   ]
  },
  {
   "cell_type": "code",
   "execution_count": 7,
   "metadata": {},
   "outputs": [
    {
     "name": "stdout",
     "output_type": "stream",
     "text": [
      "1\n",
      "3\n",
      "5\n",
      "7\n",
      "9\n",
      "11\n",
      "13\n",
      "15\n",
      "17\n",
      "19\n",
      "21\n",
      "23\n",
      "25\n",
      "27\n",
      "29\n",
      "31\n",
      "33\n",
      "35\n",
      "37\n",
      "39\n",
      "41\n",
      "43\n",
      "45\n",
      "47\n",
      "49\n",
      "51\n",
      "53\n",
      "55\n",
      "57\n",
      "59\n",
      "61\n",
      "63\n",
      "65\n",
      "67\n",
      "69\n",
      "71\n",
      "73\n",
      "75\n",
      "77\n",
      "79\n",
      "81\n",
      "83\n",
      "85\n",
      "87\n",
      "89\n",
      "91\n",
      "93\n",
      "95\n",
      "97\n",
      "99\n"
     ]
    }
   ],
   "source": [
    "   # while 반복문에서 continue로 코드 실행 건너뛰기\n",
    "i = 0\n",
    "while i < 100:                  # i 가 100 보다 작을 때 반복. 0부터 99까지 증가하면서 100번 반복\n",
    "    i += 1                      # i 를 1씩 증가시킴\n",
    "    if i % 2 == 0:              # i 를 2로 나누었을 때 나머지가 0이면\n",
    "        continue                # 아래 코드를 실행하지 않고 건너뜀\n",
    "    print(i)                    # 나눴을 때 값이 0인 사항은 print하지 않고 건너뛰므로, 홀수만 출력"
   ]
  },
  {
   "cell_type": "code",
   "execution_count": 8,
   "metadata": {},
   "outputs": [
    {
     "name": "stdin",
     "output_type": "stream",
     "text": [
      "반복할 횟수를 입력하세요:  3\n"
     ]
    },
    {
     "name": "stdout",
     "output_type": "stream",
     "text": [
      "0\n",
      "1\n",
      "2\n"
     ]
    }
   ],
   "source": [
    " # 입력한 횟수대로 반복\n",
    "count = int(input('반복할 횟수를 입력하세요: '))\n",
    "i = 0\n",
    "while True:        # 무한루프\n",
    "    print(i)\n",
    "    i += 1\n",
    "    if i == count:       # i 가 입력받은 값과 같을 때\n",
    "        break            # 반복문을 끝냄"
   ]
  },
  {
   "cell_type": "code",
   "execution_count": 10,
   "metadata": {},
   "outputs": [
    {
     "name": "stdin",
     "output_type": "stream",
     "text": [
      "반복할 횟수를 입력하세요:  9\n"
     ]
    },
    {
     "name": "stdout",
     "output_type": "stream",
     "text": [
      "1\n",
      "3\n",
      "5\n",
      "7\n",
      "9\n"
     ]
    }
   ],
   "source": [
    "  # 입력한 숫자까지 홀수 출력\n",
    "count = int(input('반복할 횟수를 입력하세요: '))\n",
    "for i in range(count + 1):                # 0부터 증가하면서 count까지 반복(count + 1)\n",
    "    if i % 2 == 0:                        # i 를 2로 나누었을 때 나머지가 0(짝수)\n",
    "        continue                          # 아래 코드를 실행하지 않고 건너뜀\n",
    "    print(i)"
   ]
  },
  {
   "cell_type": "code",
   "execution_count": 2,
   "metadata": {},
   "outputs": [
    {
     "name": "stdout",
     "output_type": "stream",
     "text": [
      "3 13 23 33 43 53 63 73 "
     ]
    }
   ],
   "source": [
    "# 연습문제: 3으로 끝나는 숫자만 출력\n",
    " #소스 코드를 완성하여 0과 73 사이의 숫자 중 3으로 끝나는 숫자만 출력되게 만드세요.\n",
    "i = 0\n",
    "\n",
    "while True:\n",
    "    if i % 10 != 3:\n",
    "        i += 1\n",
    "        continue\n",
    "    if i > 73:\n",
    "        break\n",
    "    print(i, end=' ')\n",
    "    i += 1"
   ]
  },
  {
   "cell_type": "code",
   "execution_count": 1,
   "metadata": {},
   "outputs": [
    {
     "name": "stdout",
     "output_type": "stream",
     "text": [
      "3 13 23 33 43 53 63 73 "
     ]
    }
   ],
   "source": [
    "e = 0\n",
    "\n",
    "while e < 100:\n",
    "    e += 1\n",
    "    if e == 74:\n",
    "      break\n",
    "    if e % 10 != 3:\n",
    "      continue\n",
    "    print(e, end=' ')"
   ]
  },
  {
   "cell_type": "code",
   "execution_count": null,
   "metadata": {},
   "outputs": [],
   "source": []
  }
 ],
 "metadata": {
  "kernelspec": {
   "display_name": "Python 3 (ipykernel)",
   "language": "python",
   "name": "python3"
  },
  "language_info": {
   "codemirror_mode": {
    "name": "ipython",
    "version": 3
   },
   "file_extension": ".py",
   "mimetype": "text/x-python",
   "name": "python",
   "nbconvert_exporter": "python",
   "pygments_lexer": "ipython3",
   "version": "3.11.0"
  }
 },
 "nbformat": 4,
 "nbformat_minor": 4
}
