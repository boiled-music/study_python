{
 "cells": [
  {
   "cell_type": "code",
   "execution_count": 2,
   "id": "7ee33ae8-b307-4b35-b2de-dd06fe2c45e6",
   "metadata": {},
   "outputs": [
    {
     "name": "stdout",
     "output_type": "stream",
     "text": [
      "j:0 j:1 j:2 j:3 j:4 i:0\\n\n",
      "j:0 j:1 j:2 j:3 j:4 i:1\\n\n",
      "j:0 j:1 j:2 j:3 j:4 i:2\\n\n",
      "j:0 j:1 j:2 j:3 j:4 i:3\\n\n",
      "j:0 j:1 j:2 j:3 j:4 i:4\\n\n"
     ]
    }
   ],
   "source": [
    "# 계단식으로 별 출력하기\n",
    " # 중첩루프 사용\n",
    "  # 반복문 안에 반복문이 들어가 있는 형태를 중첩 루프(다중 루프)라고 함\n",
    "  # 반복문의 루프 인덱스 변수는 index의 첫 글자를 따서 i를 사용, 반복문 안에 반복문이 들어갈 때는 변수 이름을 i, j, k 처럼 순서대로 지음\n",
    "for i in range(5):                          # 5번 반복. 바깥쪽 루프는 세로 방향\n",
    "    for j in range(5):                      # 5번 반복. 안쪽 루프는 가로 방향\n",
    "        print('j:', j, sep='', end=' ')     # j값 출력. end에 ' '를 지정하여 줄바꿈 대신 한 칸 띄움\n",
    "    print('i:', i, '\\\\n', sep='')           # i값 출력. 개행 문자 모양도 출력\n",
    "                                            # 가로 방향으로 숫자를 모두 출력한 뒤 다음 줄로 넘어감\n",
    "                                            # (print)는 기본적으로 출력 후 다음 줄로 넘어감"
   ]
  },
  {
   "cell_type": "code",
   "execution_count": 5,
   "id": "0436d8b7-6d90-4914-b45a-e3d0ff7c22f6",
   "metadata": {},
   "outputs": [
    {
     "name": "stdout",
     "output_type": "stream",
     "text": [
      "*****\n",
      "*****\n",
      "*****\n",
      "*****\n",
      "*****\n"
     ]
    }
   ],
   "source": [
    "#사각형으로 별 출력하기\n",
    "for i in range(5):                 # 5번 반복. 바깥쪽 루프는 세로방향\n",
    "    for j in range(5):             # 5번 반복. 안쪽 루프는 가로방향\n",
    "        print('*', end='')         # 별 출력. end에 ''를 지정하여 줄바꿈을 하지 않음 \n",
    "    print()                        # 가로 방향으로 별을 다 그린뒤 다음 줄로 넘어감"
   ]
  },
  {
   "cell_type": "code",
   "execution_count": 6,
   "id": "2a298b79-d8a8-4d57-88f0-ff6f65d5d275",
   "metadata": {},
   "outputs": [
    {
     "name": "stdout",
     "output_type": "stream",
     "text": [
      "*******\n",
      "*******\n",
      "*******\n"
     ]
    }
   ],
   "source": [
    " # 사각형 모양 바꾸기\n",
    "for i in range(3):               # 3번 반복. 세로 방향\n",
    "    for j in range(7):           # 7번 반복. 가로 방향\n",
    "        print('*', end='')       # 별 출력. end에 ''를 지정하여 줄바꿈을 하지 않음\n",
    "    print()                      # 가로 방향으로 별을 다 그린 뒤 다음 줄로 넘어감"
   ]
  },
  {
   "cell_type": "code",
   "execution_count": 8,
   "id": "d04db085-2b98-4181-8035-c8c734439688",
   "metadata": {},
   "outputs": [
    {
     "name": "stdout",
     "output_type": "stream",
     "text": [
      "*\n",
      "**\n",
      "***\n",
      "****\n",
      "*****\n"
     ]
    }
   ],
   "source": [
    "# 계단식으로 별 출력하기\n",
    " # 계단식의 경우 출력하지 않는 부분이 있으므로 if 조건무으로 print를 제어\n",
    "for i in range(5):                 # 0부터 4까지 5번 반복. 세로 방향\n",
    "    for j in range(5):             # 0부터 4까지 5번 반복. 가로 방향\n",
    "        if j <= i:                 # 세로 방향 변수 i만큼\n",
    "            print('*', end='')     # 별 출력. end에 ''를 지정하여 줄바꿈을 하지 않음\n",
    "    print()                        # 가로 방향으로 별을 다 그린 뒤 다음 줄로 넘어감\n",
    "\n",
    "# i가 0일 때 j는 0부터 4까지 반복, j <= i 를 만족하는 경우는 j가 0일 때 뿐이므로 별이 1번만 출력\n",
    "# i가 1일 때 j <= i를 만족하는 경우는 j가 0, 1일 때이므로 별이 2번 출력"
   ]
  },
  {
   "cell_type": "code",
   "execution_count": 11,
   "id": "6f2cc8f3-be43-476f-920c-659df045653a",
   "metadata": {},
   "outputs": [
    {
     "name": "stdout",
     "output_type": "stream",
     "text": [
      "*    \n",
      " *   \n",
      "  *  \n",
      "   * \n",
      "    *\n"
     ]
    }
   ],
   "source": [
    "# 대각선으로 별 출력하기\n",
    "for i in range(5):                      # 0부터 4까지 5번 반복. 세로 방향\n",
    "    for j in range(5):                  # 0부터 4까지 5번 반복. 가로 방향\n",
    "        if j == i:                      # j와 i가 같을 때\n",
    "            print('*', end='')          # 별 출력. end에 ''를 지정하여 줄바꿈을 하지 않음\n",
    "        else:                           # 세로 방향 변수가 다를 때\n",
    "            print(' ', end='')          # 공백 출력. end에 ''를 지정하여 줄바꿈을 하지 않음\n",
    "    print()                             # 가로 방향으로 별을 다 그린 뒤 다음 줄로 넘어감"
   ]
  },
  {
   "cell_type": "code",
   "execution_count": 13,
   "id": "07381bc9-bcb1-4d76-853d-f3091558c1ea",
   "metadata": {},
   "outputs": [
    {
     "name": "stdout",
     "output_type": "stream",
     "text": [
      "*****\n",
      " ****\n",
      "  ***\n",
      "   **\n",
      "    *\n"
     ]
    }
   ],
   "source": [
    "#연습문제: 역삼각형 모양으로 별 출력하기\n",
    "for i in range(5):\n",
    "    for j in range(5):\n",
    "        if j >= i:\n",
    "            print('*', end='')\n",
    "        else:\n",
    "            print(' ', end='')\n",
    "    print()"
   ]
  },
  {
   "cell_type": "code",
   "execution_count": 20,
   "id": "7f16b53c-fcc8-4bcb-9f3f-e1cf0e17fbb9",
   "metadata": {},
   "outputs": [
    {
     "name": "stdin",
     "output_type": "stream",
     "text": [
      " 5\n"
     ]
    },
    {
     "name": "stdout",
     "output_type": "stream",
     "text": [
      "    *\n",
      "   ***\n",
      "  *****\n",
      " *******\n",
      "*********\n"
     ]
    }
   ],
   "source": [
    "#심화문제: 산 모양으로 별 출력하기\n",
    " # 표준 입력으로 삼각형의 높이가 입력. 입력된 높이 만큼 산 모양으로 별을 출력하는 프로그램을 만드시오.\n",
    " # input에서 안내 문자열은 출력하지 않음.\n",
    "a = int(input())\n",
    "for i in range(a):\n",
    "    for j in range(a-i-1):\n",
    "        print(' ',end='')\n",
    "    for j in range(2*i+1):\n",
    "        print('*', end='')\n",
    "    print()"
   ]
  },
  {
   "cell_type": "code",
   "execution_count": 19,
   "id": "1362b207-deed-4605-a698-2c91bb23e8aa",
   "metadata": {},
   "outputs": [
    {
     "data": {
      "text/plain": [
       "range(0, -1)"
      ]
     },
     "execution_count": 19,
     "metadata": {},
     "output_type": "execute_result"
    }
   ],
   "source": [
    "range(-1)"
   ]
  },
  {
   "cell_type": "code",
   "execution_count": null,
   "id": "6f56245f-24cd-43ea-a908-eb0f6b73f058",
   "metadata": {},
   "outputs": [],
   "source": []
  }
 ],
 "metadata": {
  "kernelspec": {
   "display_name": "Python 3 (ipykernel)",
   "language": "python",
   "name": "python3"
  },
  "language_info": {
   "codemirror_mode": {
    "name": "ipython",
    "version": 3
   },
   "file_extension": ".py",
   "mimetype": "text/x-python",
   "name": "python",
   "nbconvert_exporter": "python",
   "pygments_lexer": "ipython3",
   "version": "3.11.0"
  }
 },
 "nbformat": 4,
 "nbformat_minor": 5
}
