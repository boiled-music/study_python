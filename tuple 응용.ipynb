{
 "cells": [
  {
   "cell_type": "code",
   "execution_count": 1,
   "id": "bdf460ce-7173-4006-b45c-0253af898bb6",
   "metadata": {},
   "outputs": [],
   "source": [
    "# 튜플 응용\n",
    " # 튜플은 리스트와 달리 내용을 변경할 수 없으므로, 요소의 정보를 구하는 메서드만 사용할 수 있음\n",
    " # 튜플에서 특정 값의 인덱스 구하기\n",
    "  # index(값)은 튜플에서 특정 값의 인덱스를 구함\n",
    "a = (38, 21, 53, 62, 19, 53)"
   ]
  },
  {
   "cell_type": "code",
   "execution_count": 2,
   "id": "ddd74b38-47ed-40c1-81a3-d29282bdac0c",
   "metadata": {},
   "outputs": [
    {
     "data": {
      "text/plain": [
       "2"
      ]
     },
     "execution_count": 2,
     "metadata": {},
     "output_type": "execute_result"
    }
   ],
   "source": [
    "a.index(53)"
   ]
  },
  {
   "cell_type": "code",
   "execution_count": 3,
   "id": "995a8bb2-4d53-4f3b-9ad5-fa60b22f0446",
   "metadata": {},
   "outputs": [
    {
     "data": {
      "text/plain": [
       "2"
      ]
     },
     "execution_count": 3,
     "metadata": {},
     "output_type": "execute_result"
    }
   ],
   "source": [
    " # 특정 값의 개수 구하기\n",
    "  # count(값)은 튜플에서 특정 값의 개수를 구함\n",
    "a = (10, 20, 30, 40, 15, 20)\n",
    "a.count(20)"
   ]
  },
  {
   "cell_type": "code",
   "execution_count": 4,
   "id": "080cf0a9-9cd2-429d-983b-5123aabd7dde",
   "metadata": {},
   "outputs": [
    {
     "name": "stdout",
     "output_type": "stream",
     "text": [
      "38 21 53 62 19 "
     ]
    }
   ],
   "source": [
    " # for 반복문으로 요소 출력\n",
    "a = (38, 21, 53, 62, 19)\n",
    "for i in a:\n",
    "    print(i, end=' ')"
   ]
  },
  {
   "cell_type": "code",
   "execution_count": 5,
   "id": "26305bff-4d1b-45b3-879f-7e8d467a1ec7",
   "metadata": {},
   "outputs": [
    {
     "data": {
      "text/plain": [
       "(0, 2, 4, 6, 8)"
      ]
     },
     "execution_count": 5,
     "metadata": {},
     "output_type": "execute_result"
    }
   ],
   "source": [
    " # 튜플 표현식 사용\n",
    "  # 튜플을 리스트 표현식처럼 생성할 때는 tuple 안에 for 반복문과 if 조건문을 지정\n",
    "  # tuple(식 for 변수 in 리스트 if 조건식)\n",
    "a = tuple(i for i in range(10) if i % 2 == 0)\n",
    "a"
   ]
  },
  {
   "cell_type": "code",
   "execution_count": 6,
   "id": "50942eb1-2f0b-437e-9335-40ffb7a6a7cf",
   "metadata": {},
   "outputs": [
    {
     "data": {
      "text/plain": [
       "(1, 2, 3, 4)"
      ]
     },
     "execution_count": 6,
     "metadata": {},
     "output_type": "execute_result"
    }
   ],
   "source": [
    " # tuple에 map 사용\n",
    "a = (1.2, 2.5, 3.7, 4.6)\n",
    "a = tuple(map(int, a))\n",
    "a"
   ]
  },
  {
   "cell_type": "code",
   "execution_count": 7,
   "id": "c1485217-1378-4fae-9a86-59b5fe68f733",
   "metadata": {},
   "outputs": [
    {
     "data": {
      "text/plain": [
       "19"
      ]
     },
     "execution_count": 7,
     "metadata": {},
     "output_type": "execute_result"
    }
   ],
   "source": [
    " # 튜플에서 가장 작은 수, 가장 큰 수, 합계 구하기\n",
    "a = (38, 21, 53, 62, 19)\n",
    "min(a)"
   ]
  },
  {
   "cell_type": "code",
   "execution_count": 8,
   "id": "d66c238f-9d2f-4a6f-b160-724879dafa7b",
   "metadata": {},
   "outputs": [
    {
     "data": {
      "text/plain": [
       "62"
      ]
     },
     "execution_count": 8,
     "metadata": {},
     "output_type": "execute_result"
    }
   ],
   "source": [
    "max(a)"
   ]
  },
  {
   "cell_type": "code",
   "execution_count": 9,
   "id": "0759583b-e2bc-4632-8623-2805094edd0c",
   "metadata": {},
   "outputs": [
    {
     "data": {
      "text/plain": [
       "193"
      ]
     },
     "execution_count": 9,
     "metadata": {},
     "output_type": "execute_result"
    }
   ],
   "source": [
    "sum(a)"
   ]
  },
  {
   "cell_type": "code",
   "execution_count": 10,
   "id": "9e402975-f68f-40fa-87ce-7d5c38c05d11",
   "metadata": {},
   "outputs": [],
   "source": [
    "#연습문제: 리스트에서 특정 요소만 뽑아내기\n",
    " # 다음 소스코드를 완성하여 리스트 a에 들어있는 문자열 중에서 길이가 5인 것들만 리스트 형태로 출력\n",
    "a = ['alpha', 'bravo', 'charlie', 'delta', 'echo', 'foxtrot', 'golf', 'hotel', 'india']"
   ]
  },
  {
   "cell_type": "code",
   "execution_count": 11,
   "id": "3a604049-bf13-471e-a42b-d9869cff108e",
   "metadata": {},
   "outputs": [
    {
     "name": "stdout",
     "output_type": "stream",
     "text": [
      "['alpha', 'bravo', 'delta', 'hotel', 'india']\n"
     ]
    }
   ],
   "source": [
    "b = [i for i in a if len(i) == 5]\n",
    "print(b)"
   ]
  },
  {
   "cell_type": "code",
   "execution_count": 2,
   "id": "fe1413f9-41a3-47be-a2d8-0b5f64532a54",
   "metadata": {},
   "outputs": [
    {
     "name": "stdin",
     "output_type": "stream",
     "text": [
      " 1 10\n"
     ]
    },
    {
     "name": "stdout",
     "output_type": "stream",
     "text": [
      "[2, 8, 16, 32, 64, 128, 512]\n"
     ]
    }
   ],
   "source": [
    "#심화문제: 2의 거듭제곱 리트스 생성하기\n",
    " # 표준 입력으로 정수 두 개가 입력됩니다(첫번째 입력 값의 범위는 1~20, 두번째 입력 값의 범위는 10~30이며,\n",
    " # 첫 번째 정수부터 두 번째 정수까지를 지수로 하는 2의 거듭제곱 리스트를 출력하는 프로그램을 만드세요\n",
    " # input에서 안내 문자열은 출력하지 않아야 합니다. 단, 리스트의 두 번째 요소와 뒤에서 두 번째 요소는 삭제한 뒤 출력하세요\n",
    " # 출력 결과는 리스트 형태여야 함\n",
    "i, j = map(int, input().split())\n",
    "a = [2 ** x for x in range(i, j)]\n",
    "del a[1]\n",
    "del a[-2]\n",
    "print(a)"
   ]
  },
  {
   "cell_type": "code",
   "execution_count": null,
   "id": "9ba11542-361c-43eb-afbf-814b668f47b3",
   "metadata": {},
   "outputs": [],
   "source": []
  }
 ],
 "metadata": {
  "kernelspec": {
   "display_name": "Python 3 (ipykernel)",
   "language": "python",
   "name": "python3"
  },
  "language_info": {
   "codemirror_mode": {
    "name": "ipython",
    "version": 3
   },
   "file_extension": ".py",
   "mimetype": "text/x-python",
   "name": "python",
   "nbconvert_exporter": "python",
   "pygments_lexer": "ipython3",
   "version": "3.11.0"
  }
 },
 "nbformat": 4,
 "nbformat_minor": 5
}
